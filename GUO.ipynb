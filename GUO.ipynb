{
 "cells": [
  {
   "cell_type": "code",
   "execution_count": 3,
   "id": "b0f6d8c9",
   "metadata": {},
   "outputs": [],
   "source": [
    "import xlwt\n",
    "def writeinexcel():\n",
    "    f = open('Ba122_raw_data.txt','r',encoding='utf-8')\n",
    "\n",
    "if __name__ == \"__main__\":\n",
    "  writeinexcel()"
   ]
  },
  {
   "cell_type": "code",
   "execution_count": 7,
   "id": "c3f428c4",
   "metadata": {},
   "outputs": [],
   "source": [
    "import pandas as pd\n",
    "# txt格式数据分割到excel中\n",
    "def write_in_excel():\n",
    "    B = open('Ba122_raw_data.txt','r',encoding='utf-8')\n",
    "    B_excel = xlwt.Workbook(encoding='utf-8')\n",
    "    B_excel_1 = B_excel.add_sheet('Raw_Degree')\n",
    "    B_excel_1.write(0,0,'phi1')\n",
    "    B_excel_1.write(0,1,'phi')\n",
    "    B_excel_1.write(0,2,'phi2')\n",
    "    B_excel_1.write(0,3,'x')\n",
    "    B_excel_1.write(0,4,'y')\n",
    "    row = 1\n",
    "    col = 0\n",
    "    k = 1\n",
    "    for lines in B:\n",
    "        a = lines.strip(\"\\n\")\n",
    "        a = lines.split()\n",
    "        k+=1\n",
    "        for i in range(len(a)):\n",
    "            B_excel_1.write(row,col,a[i])\n",
    "            col += 1\n",
    "        row +=1\n",
    "        col = 0\n",
    "    B_excel.save(\"Ba122_calculation.xls\")\n",
    "\n",
    "if __name__ == \"__main__\":\n",
    "  write_in_excel()"
   ]
  },
  {
   "cell_type": "code",
   "execution_count": 19,
   "id": "4409fcd3",
   "metadata": {},
   "outputs": [
    {
     "name": "stdout",
     "output_type": "stream",
     "text": [
      "<bound method NDFrame.head of           phi1      phi     phi2           x  Unnamed: 13\n",
      "9      3.15905  1.62455  4.65916     0.00000          0.0\n",
      "10     3.15905  1.62455  4.65916     4.00000          0.0\n",
      "11     3.15905  1.62455  4.65916     8.00000          0.0\n",
      "12     3.15905  1.62455  4.65148    12.00000          0.0\n",
      "13     3.15905  1.62455  4.65916    16.00000          0.0\n",
      "...        ...      ...      ...         ...          ...\n",
      "19982  2.14675  0.09163  1.01561  1060.00000          0.0\n",
      "19983  2.32129  0.09058  0.84299  1064.00000          0.0\n",
      "19984  2.28638  0.10542  0.88523  1068.00000          0.0\n",
      "19985  2.32129  0.08186  0.84910  1072.00000          0.0\n",
      "19986  2.28638  0.10542  0.88523  1076.00000          0.0\n",
      "\n",
      "[19978 rows x 5 columns]>\n"
     ]
    }
   ],
   "source": [
    "#删除多余的2-13行，以及暂时不需要的F-N行\n",
    "###B_excel_2 = pd.read_excel('Ba122_calculation.xls')\n",
    "#B_excel_2.head()\n",
    "#B_excel_2.drop(B_excel_2.index[0:9], inplace=True)\n",
    "#B_excel_2.drop(B_excel_2.columns[4:13], axis = 1, inplace = True)\n",
    "#print(B_excel_2.head)\n",
    "#B_excel_2.to_csv(\"Ba122_calculation_1.xls\")"
   ]
  },
  {
   "cell_type": "code",
   "execution_count": 8,
   "id": "a03705fa",
   "metadata": {},
   "outputs": [
    {
     "name": "stdout",
     "output_type": "stream",
     "text": [
      "[{'number_value': 'y'}]\n",
      "<class 'pandas.core.frame.DataFrame'>\n",
      "RangeIndex: 19978 entries, 0 to 19977\n",
      "Data columns (total 5 columns):\n",
      " #   Column  Non-Null Count  Dtype  \n",
      "---  ------  --------------  -----  \n",
      " 0   phi1    19978 non-null  float64\n",
      " 1   phi     19978 non-null  float64\n",
      " 2   phi2    19978 non-null  float64\n",
      " 3   x       19978 non-null  float64\n",
      " 4   y       19978 non-null  float64\n",
      "dtypes: float64(5)\n",
      "memory usage: 780.5 KB\n"
     ]
    }
   ],
   "source": [
    "#上述处理非常麻烦，建议直接将输出的xls表格删除指定列和行，并将数据变成浮点数\n",
    "import xlrd\n",
    "import sys\n",
    "B_excel_2 = pd.read_excel('Ba122_calculation.xls')\n",
    "for row in B_excel_2:\n",
    "    values = []\n",
    "    for column in row[0].split(\";\"):\n",
    "        if column.isdigit():\n",
    "            column = float(column)\n",
    "        values.append({'number_value': column})\n",
    "    payload = {\n",
    "        'row': {'values': values}\n",
    "        }\n",
    "\n",
    "print (values)\n",
    "B_excel_2.info()"
   ]
  },
  {
   "cell_type": "code",
   "execution_count": 57,
   "id": "267687ba",
   "metadata": {
    "scrolled": true
   },
   "outputs": [
    {
     "data": {
      "text/plain": [
       "[0        181.000232\n",
       " 1        181.000232\n",
       " 2        181.000232\n",
       " 3        181.000232\n",
       " 4        181.000232\n",
       "             ...    \n",
       " 19973    122.999715\n",
       " 19974    133.000120\n",
       " 19975    130.999924\n",
       " 19976    133.000120\n",
       " 19977    130.999924\n",
       " Name: phi1, Length: 19978, dtype: float64,\n",
       " 0        93.079859\n",
       " 1        93.079859\n",
       " 2        93.079859\n",
       " 3        93.079859\n",
       " 4        93.079859\n",
       "            ...    \n",
       " 19973     5.250012\n",
       " 19974     5.189852\n",
       " 19975     6.040121\n",
       " 19976     4.690233\n",
       " 19977     6.040121\n",
       " Name: phi, Length: 19978, dtype: float64,\n",
       " 0        266.950204\n",
       " 1        266.950204\n",
       " 2        266.950204\n",
       " 3        266.510172\n",
       " 4        266.950204\n",
       "             ...    \n",
       " 19973     58.190167\n",
       " 19974     48.299769\n",
       " 19975     50.719943\n",
       " 19976     48.649846\n",
       " 19977     50.719943\n",
       " Name: phi2, Length: 19978, dtype: float64]"
      ]
     },
     "execution_count": 57,
     "metadata": {},
     "output_type": "execute_result"
    }
   ],
   "source": [
    "# 调用Phi1 Phi Phi2数据计算其角度\n",
    "import numpy as np\n",
    "import math\n",
    "#计算每列的角度值\n",
    "ph1_1 = np.degrees(B_excel_2['phi1'])\n",
    "phi_1 = np.degrees(B_excel_2['phi'])\n",
    "phi2_1 = np.degrees(B_excel_2['phi2'])\n",
    "#print(phi_1)\n",
    "# 汇总二维列表\n",
    "phi_all = [ph1_1, phi_1, phi2_1]\n",
    "phi_all\n",
    "#phi_all_l = sum(phi_all, []) \n",
    "#print(phi_all)\n",
    "#转化为数组并转置\n",
    "#phi_all_1 = np.array(phi_all).T\n",
    "#phi_all_1.shape\n",
    "#print(phi_all_1)"
   ]
  },
  {
   "cell_type": "code",
   "execution_count": 39,
   "id": "f37dcfb9",
   "metadata": {},
   "outputs": [
    {
     "data": {
      "text/plain": [
       "dtype('float64')"
      ]
     },
     "execution_count": 39,
     "metadata": {},
     "output_type": "execute_result"
    }
   ],
   "source": [
    "# 检查数据类型\n",
    "phi_all_1.dtype"
   ]
  },
  {
   "cell_type": "code",
   "execution_count": 62,
   "id": "e11582d7",
   "metadata": {},
   "outputs": [
    {
     "data": {
      "text/plain": [
       "(19978, 3)"
      ]
     },
     "execution_count": 62,
     "metadata": {},
     "output_type": "execute_result"
    }
   ],
   "source": [
    "def transpose_2d(data):\n",
    "    transposed = [[row[i] for row in data] for i in range(len(data[0]))]\n",
    "    return transposed\n",
    "phi_all_T = transpose_2d(phi_all)\n",
    "#print(phi_all_T)\n",
    "#转为数组\n",
    "phi_all_T_1 = np.array(phi_all_T)\n",
    "phi_all_T_1.shape"
   ]
  },
  {
   "cell_type": "code",
   "execution_count": 65,
   "id": "2d433b5d",
   "metadata": {},
   "outputs": [],
   "source": [
    "from scipy.spatial.transform import Rotation as R\n",
    "\n",
    "for i in range(len(phi_all_T_1)):\n",
    "    i = 0\n",
    "    phi_all_matrix = R.from_euler('xyz', phi_all_T_1[i:, :], degrees = True)\n",
    "    i = i + 1 \n",
    "#ph1_1_matrix = R.from_euler('x', ph1_1, degrees = True)\n",
    "#ph1_1_matrix_1 = ph1_1_matrix.as_matrix()\n",
    "#print(phi_1_matrix_1)\n",
    "\n",
    "#phi_1_matrix = R.from_euler('y', phi_1, degrees = True)\n",
    "#phi_1_matrix_1 = phi_1_matrix.as_matrix()\n",
    "\n",
    "#phi2_1_matrix = R.from_euler('z', phi2_1, degrees = True)\n",
    "#phi2_1_matrix_1 = phi2_1_matrix.as_matrix()\n",
    "\n",
    "#phi_matrix_all = [ph1_1_matrix_1, phi_1_matrix_1, phi2_1_matrix_1]\n",
    "#print(phi_matrix_all)"
   ]
  },
  {
   "cell_type": "code",
   "execution_count": 75,
   "id": "e59973e8",
   "metadata": {},
   "outputs": [
    {
     "name": "stdout",
     "output_type": "stream",
     "text": [
      "[[ 37.23172028 -84.91263625  52.71314918]\n",
      " [ 37.23172028 -84.91263625  52.71314918]\n",
      " [ 37.23172028 -84.91263625  52.71314918]\n",
      " ...\n",
      " [114.68984976  32.09008968 140.36038177]\n",
      " [118.46761927  31.67075977 143.0015731 ]\n",
      " [114.68984976  32.09008968 140.36038177]]\n"
     ]
    },
    {
     "data": {
      "text/plain": [
       "(19978, 3)"
      ]
     },
     "execution_count": 75,
     "metadata": {},
     "output_type": "execute_result"
    }
   ],
   "source": [
    "phi_all_euler = phi_all_matrix.as_euler('zxy', degrees = True)\n",
    "#print(phi_all_euler)\n",
    "#phi_all_euler.shape"
   ]
  },
  {
   "cell_type": "code",
   "execution_count": 83,
   "id": "3a7d430d",
   "metadata": {},
   "outputs": [
    {
     "name": "stdout",
     "output_type": "stream",
     "text": [
      "[[ 52.71314918]\n",
      " [ 52.71314918]\n",
      " [ 52.71314918]\n",
      " ...\n",
      " [140.36038177]\n",
      " [143.0015731 ]\n",
      " [140.36038177]]\n"
     ]
    }
   ],
   "source": [
    "# 数组筛选，1. 考虑正负 如果负 alpha和beta角度180-原角度。如果grama 负 ➕90 度\n",
    "# 排序\n",
    "import numpy as np\n",
    "matrix1 = phi_all_euler[:,[0]]\n",
    "matrix2 = phi_all_euler[:,[1]]\n",
    "matrix3 = phi_all_euler[:,[2]]\n",
    "#print(matrix1)\n",
    "# 拆分数组\n",
    "matrix1_1 = matrix1 < 0\n",
    "matrix2_1 = matrix2 < 0\n",
    "matrix3_1 = matrix3 < 0\n",
    "\n",
    "# print(matrix1_1)\n",
    "matrix1[matrix1_1] = 180 + matrix1[matrix1_1]        \n",
    "# print(matrix1)\n",
    "matrix2[matrix2_1] = 180 + matrix1[matrix2_1]\n",
    "matrix3[matrix3_1] = 0-matrix1[matrix3_1] \n",
    "# print(matrix3)"
   ]
  },
  {
   "cell_type": "code",
   "execution_count": 102,
   "id": "c4a65c7a",
   "metadata": {},
   "outputs": [
    {
     "name": "stdout",
     "output_type": "stream",
     "text": [
      "[[  1.00023227]\n",
      " [  1.00023227]\n",
      " [  1.00023227]\n",
      " ...\n",
      " [130.99992436]\n",
      " [133.00012003]\n",
      " [130.99992436]]\n"
     ]
    }
   ],
   "source": [
    "# 大于180\n",
    "matrix11 = phi_all_T_1[:,[0]]\n",
    "matrix12 = phi_all_T_1[:,[1]]\n",
    "matrix13 = phi_all_T_1[:,[2]]\n",
    "matrix1_2 = matrix11 > 180\n",
    "matrix2_2 = matrix12 > 180\n",
    "matrix3_2 = matrix13 > 180\n",
    "matrix11[matrix1_2] = matrix11[matrix1_2] - 180        \n",
    "print(matrix11)\n",
    "matrix12[matrix2_2] = matrix12[matrix2_2] - 180\n",
    "matrix13[matrix3_2] = matrix13[matrix3_2] - 180"
   ]
  },
  {
   "cell_type": "code",
   "execution_count": 111,
   "id": "bd12f8db",
   "metadata": {},
   "outputs": [
    {
     "name": "stdout",
     "output_type": "stream",
     "text": [
      "[[2.00004362e+00 9.05800437e+01 8.91801558e+01 1.68372903e+02\n",
      "  1.68372903e+02 1.16270966e+01]\n",
      " [2.00019566e+00 8.87998639e+01 8.61797279e+01 1.16449894e+01\n",
      "  1.68355011e+02 7.83359241e+01]\n",
      " [2.00019566e+00 8.87998639e+01 8.61797279e+01 1.16449894e+01\n",
      "  1.68355011e+02 7.83359241e+01]\n",
      " ...\n",
      " [1.10000647e+01 2.00993595e+00 8.03802491e+01 8.01751517e+01\n",
      "  1.17930938e-01 8.01751517e+01]\n",
      " [1.10000647e+01 2.00993595e+00 8.03802491e+01 8.01751517e+01\n",
      "  1.17930938e-01 8.01751517e+01]\n",
      " [1.10000647e+01 2.00993595e+00 8.03802491e+01 8.01751517e+01\n",
      "  1.17930938e-01 8.01751517e+01]]\n"
     ]
    }
   ],
   "source": [
    "# 合并数组\n",
    "phi_all_euler_sort = np.concatenate((matrix11, matrix12, matrix13, matrix1, matrix2, matrix3), axis = 1)\n",
    "# print(phi_all_euler_sort)\n",
    "# 多维数组排序\n",
    "phi_all_euler_sort_r = phi_all_euler_sort[np.argsort(-phi_all_euler_sort[:, 4], ), :]\n",
    "print(phi_all_euler_sort_r)"
   ]
  },
  {
   "cell_type": "code",
   "execution_count": 114,
   "id": "2cd95168",
   "metadata": {},
   "outputs": [],
   "source": [
    "#写入excel表格\n",
    "import pandas as pd\n",
    "phi_all_euler_sort_r_df = pd.DataFrame(phi_all_euler_sort_r)\n",
    "writer = pd.ExcelWriter('result.xlsx')\n",
    "phi_all_euler_sort_r_df.to_excel(writer,'page_1', float_format = '%.5f')\n",
    "writer.save()"
   ]
  },
  {
   "cell_type": "code",
   "execution_count": null,
   "id": "a4469714",
   "metadata": {},
   "outputs": [],
   "source": []
  }
 ],
 "metadata": {
  "kernelspec": {
   "display_name": "Python 3 (ipykernel)",
   "language": "python",
   "name": "python3"
  },
  "language_info": {
   "codemirror_mode": {
    "name": "ipython",
    "version": 3
   },
   "file_extension": ".py",
   "mimetype": "text/x-python",
   "name": "python",
   "nbconvert_exporter": "python",
   "pygments_lexer": "ipython3",
   "version": "3.10.6"
  }
 },
 "nbformat": 4,
 "nbformat_minor": 5
}
